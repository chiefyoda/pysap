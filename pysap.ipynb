{
 "cells": [
  {
   "cell_type": "markdown",
   "id": "60b11590",
   "metadata": {},
   "source": [
    "# PySAP\n",
    "## 1. Dimensions"
   ]
  },
  {
   "cell_type": "code",
   "execution_count": 7,
   "id": "95777532",
   "metadata": {},
   "outputs": [
    {
     "name": "stdout",
     "output_type": "stream",
     "text": [
      "Box 4 TFA: 80\n",
      "Box 5 Dwelling volume: 210.0\n"
     ]
    }
   ],
   "source": [
    "# Inputs\n",
    "ground_floor_area = 40\n",
    "first_floor_area = 40\n",
    "ground_floor_storey_height = 2.5\n",
    "\n",
    "# Calculations\n",
    "first_floor_storey_height = ground_floor_storey_height + 0.25 #RdSAP assumption\n",
    "TFA = ground_floor_area + first_floor_area\n",
    "ground_V = ground_floor_area * ground_floor_storey_height\n",
    "first_V = first_floor_area * first_floor_storey_height\n",
    "DV = ground_V + first_V\n",
    "\n",
    "print(f\"Box 4 TFA: {TFA}\")\n",
    "print(f\"Box 5 Dwelling volume: {DV}\")"
   ]
  },
  {
   "cell_type": "markdown",
   "id": "d83289cc",
   "metadata": {},
   "source": [
    "## 2. Ventilation rate"
   ]
  },
  {
   "cell_type": "code",
   "execution_count": 8,
   "id": "54fea26d",
   "metadata": {},
   "outputs": [
    {
     "name": "stdout",
     "output_type": "stream",
     "text": [
      "Box 8 Initial infiltration rate: 0.00 ACH\n",
      "Box 18 Adjusted infiltration: 0.95 ACH\n",
      "Box 21 With shelter factor: 0.81 ACH\n",
      "Box 25 Effective ach: [1.03, 1.01, 0.99, 0.89, 0.88, 0.79, 0.79, 0.78, 0.83, 0.88, 0.91, 0.95] ACH\n"
     ]
    }
   ],
   "source": [
    "# Inputs\n",
    "# RdSAP - Natural with intermittent extract fans,\n",
    "# unless mechanical system clearly identified\n",
    "\n",
    "# Chimneys/flues/fans\n",
    "open_chimneys = 0 * 80  # (6a)\n",
    "open_flues = 0 * 20  # (6b)\n",
    "closed_fire = 0 * 10  # (6c)\n",
    "solid_fuel = 0 * 20  # (6d)\n",
    "other_heater = 0 * 35  # (6e)\n",
    "blocked = 0 * 20  # (6f)\n",
    "fans = 0 * 10  # (7a)\n",
    "vents = 0 * 10  # (7b)\n",
    "flueless = 0 * 40  # (7c)\n",
    "\n",
    "# Other inputs\n",
    "has_test = False\n",
    "\n",
    "sheltered_sides = 2 \n",
    "system = 'natural'\n",
    "\n",
    "monthly_wind = [5.10,5.00, 4.90,4.40, 4.30,3.80,3.80,3.70,4.00,4.30,4.50,4.70]\n",
    "\n",
    "# Calculations\n",
    "# Calculate infiltration from components (8) - Air changes per hour\n",
    "infiltration = (open_chimneys + open_flues + closed_fire + solid_fuel + \n",
    "                other_heater + blocked + fans + vents + flueless)\n",
    "\n",
    "infiltration_rate = infiltration / DV\n",
    "\n",
    "if has_test:\n",
    "    if ap50 > 0:\n",
    "        adjusted_infiltration = (ap50 / 20) + infiltration_rate\n",
    "    else:\n",
    "        adjusted_infiltration = (0.263 * (ap4 ** 0.924)) + infiltration_rate\n",
    "else:\n",
    "    # Manual infiltration calculation\n",
    "    # TODO - RdSAP - number of extract fans\n",
    "    # RdSAP - 2 in other cases\n",
    "    storeys = 2\n",
    "    additional = (storeys - 1) * 0.1 if storeys > 1 else 0\n",
    "\n",
    "    construction = 'masonry'  # Input\n",
    "    structural = 0.25 if construction in ['steel', 'timber'] else 0.35\n",
    "    \n",
    "    # RdSAP - Age band of main dwelling A to E: unsealed\n",
    "    # Age band of main dwelling F to L: sealed\n",
    "    floor = 'unsealed'  # Input\n",
    "    floor_infiltration = 0.2 if floor == 'unsealed' else 0.1 if floor == 'sealed' else 0\n",
    "    \n",
    "    # RdSAP - House, bungalow or park home: no\n",
    "    lobby = 0  # Input\n",
    "    lobby_infiltration = 0.05 if lobby == 0 else 0\n",
    "    \n",
    "    # If no draught lobby, enter 0.05, else enter 0\n",
    "    proofing = 0.05  # Input\n",
    "    window_infiltration = 0.25 - (0.2 * proofing / 100)\n",
    "    \n",
    "    adjusted_infiltration = (infiltration_rate + additional + structural + \n",
    "                            floor_infiltration + lobby_infiltration + window_infiltration)\n",
    "\n",
    "shelter_factor = 1 - (0.075 * sheltered_sides)\n",
    "final_infiltration = adjusted_infiltration * shelter_factor\n",
    "\n",
    "# Monthly wind factor\n",
    "wind_factors = [w/4 for w in monthly_wind]\n",
    "adjusted_monthly = [final_infiltration * wf for wf in wind_factors]\n",
    "\n",
    "# Mechanical ventilation\n",
    "effective_ach = []\n",
    "for monthly in adjusted_monthly:\n",
    "    if system == 'mvhr':\n",
    "        efficiency = 80\n",
    "        ach = monthly + 0.5 * (1 - efficiency/100)\n",
    "    elif system == 'balanced':\n",
    "        ach = monthly + 0.5\n",
    "    elif system == 'mechanical':\n",
    "        ach = monthly + 0.5 if monthly < 0.25 else monthly + 0.25\n",
    "    else:  # natural\n",
    "        ach = monthly if monthly >= 1 else 0.5 + (0.5 * monthly**2)\n",
    "    effective_ach.append(ach)\n",
    "\n",
    "\n",
    "# Results\n",
    "print(f\"Box 8 Initial infiltration rate: {infiltration_rate:.2f} ACH\")\n",
    "print(f\"Box 18 Adjusted infiltration: {adjusted_infiltration:.2f} ACH\")\n",
    "print(f\"Box 21 With shelter factor: {final_infiltration:.2f} ACH\")\n",
    "print(f\"Box 25 Effective ach: {[round(x, 2) for x in effective_ach]} ACH\")"
   ]
  }
 ],
 "metadata": {
  "kernelspec": {
   "display_name": "Python 3",
   "language": "python",
   "name": "python3"
  },
  "language_info": {
   "codemirror_mode": {
    "name": "ipython",
    "version": 3
   },
   "file_extension": ".py",
   "mimetype": "text/x-python",
   "name": "python",
   "nbconvert_exporter": "python",
   "pygments_lexer": "ipython3",
   "version": "3.9.6"
  }
 },
 "nbformat": 4,
 "nbformat_minor": 5
}
