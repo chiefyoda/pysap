{
 "cells": [
  {
   "cell_type": "markdown",
   "id": "60b11590",
   "metadata": {},
   "source": [
    "# PySAP\n",
    "## 1. Dimensions"
   ]
  },
  {
   "cell_type": "code",
   "execution_count": 4,
   "id": "95777532",
   "metadata": {},
   "outputs": [
    {
     "name": "stdout",
     "output_type": "stream",
     "text": [
      "Box 4 TFA: 80\n",
      "Box 5 Dwelling volume: 210.0\n"
     ]
    }
   ],
   "source": [
    "# Inputs\n",
    "ground_floor_area = 40\n",
    "first_floor_area = 40\n",
    "ground_floor_storey_height = 2.5\n",
    "\n",
    "# Calculations\n",
    "first_floor_storey_height = ground_floor_storey_height + 0.25 #RdSAP assumption\n",
    "TFA = ground_floor_area + first_floor_area\n",
    "ground_V = ground_floor_area * ground_floor_storey_height\n",
    "first_V = first_floor_area * first_floor_storey_height\n",
    "DV = ground_V + first_V\n",
    "\n",
    "print(f\"Box 4 TFA: {TFA}\")\n",
    "print(f\"Box 5 Dwelling volume: {DV}\")"
   ]
  }
 ],
 "metadata": {
  "kernelspec": {
   "display_name": "Python 3",
   "language": "python",
   "name": "python3"
  },
  "language_info": {
   "codemirror_mode": {
    "name": "ipython",
    "version": 3
   },
   "file_extension": ".py",
   "mimetype": "text/x-python",
   "name": "python",
   "nbconvert_exporter": "python",
   "pygments_lexer": "ipython3",
   "version": "3.9.6"
  }
 },
 "nbformat": 4,
 "nbformat_minor": 5
}
